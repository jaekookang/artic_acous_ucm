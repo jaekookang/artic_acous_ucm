{
 "cells": [
  {
   "cell_type": "markdown",
   "metadata": {},
   "source": [
    "# Forward mapping of articulation and acoustics\n",
    "\n",
    "## Refs:\n",
    "- Slider: https://plot.ly/~jackluo/2228/moving-sma-slider-visualization-with-plo/#/\n",
    "- Curve fitting: https://plot.ly/~rreusser/90/chebyshev-points-for-least-squares-curve/#/\n",
    "- Subplots: https://plot.ly/python/subplots/\n",
    "- Mixed subplots: https://plot.ly/python/mixed-subplots/"
   ]
  },
  {
   "cell_type": "code",
   "execution_count": 1,
   "metadata": {},
   "outputs": [
    {
     "data": {
      "text/html": [
       "<script>requirejs.config({paths: { 'plotly': ['https://cdn.plot.ly/plotly-latest.min']},});if(!window.Plotly) {{require(['plotly'],function(plotly) {window.Plotly=plotly;});}}</script>"
      ],
      "text/vnd.plotly.v1+html": [
       "<script>requirejs.config({paths: { 'plotly': ['https://cdn.plot.ly/plotly-latest.min']},});if(!window.Plotly) {{require(['plotly'],function(plotly) {window.Plotly=plotly;});}}</script>"
      ]
     },
     "metadata": {},
     "output_type": "display_data"
    }
   ],
   "source": [
    "import numpy as np\n",
    "import pandas as pd\n",
    "import pickle\n",
    "from sklearn.preprocessing import StandardScaler\n",
    "from sklearn.decomposition import PCA\n",
    "\n",
    "from plotly import tools\n",
    "import plotly.graph_objs as go\n",
    "from plotly.offline import download_plotlyjs, init_notebook_mode, plot, iplot\n",
    "from IPython.display import display, HTML\n",
    "init_notebook_mode(connected=True)\n",
    "\n",
    "import time"
   ]
  },
  {
   "cell_type": "code",
   "execution_count": 2,
   "metadata": {},
   "outputs": [],
   "source": [
    "# Load single speaker data\n",
    "df = pd.read_pickle('JW12.pckl')"
   ]
  },
  {
   "cell_type": "code",
   "execution_count": 3,
   "metadata": {},
   "outputs": [
    {
     "data": {
      "text/html": [
       "<div>\n",
       "<style scoped>\n",
       "    .dataframe tbody tr th:only-of-type {\n",
       "        vertical-align: middle;\n",
       "    }\n",
       "\n",
       "    .dataframe tbody tr th {\n",
       "        vertical-align: top;\n",
       "    }\n",
       "\n",
       "    .dataframe thead th {\n",
       "        text-align: right;\n",
       "    }\n",
       "</style>\n",
       "<table border=\"1\" class=\"dataframe\">\n",
       "  <thead>\n",
       "    <tr style=\"text-align: right;\">\n",
       "      <th></th>\n",
       "      <th>Subj</th>\n",
       "      <th>FName</th>\n",
       "      <th>PreLab</th>\n",
       "      <th>NexLab</th>\n",
       "      <th>Label</th>\n",
       "      <th>Context</th>\n",
       "      <th>Dur</th>\n",
       "      <th>T1x</th>\n",
       "      <th>T1y</th>\n",
       "      <th>T2x</th>\n",
       "      <th>...</th>\n",
       "      <th>segEnd</th>\n",
       "      <th>GONS</th>\n",
       "      <th>NONS</th>\n",
       "      <th>MAXC</th>\n",
       "      <th>NOFFS</th>\n",
       "      <th>GOFFS</th>\n",
       "      <th>GesTarDur</th>\n",
       "      <th>timeMidWithinGest</th>\n",
       "      <th>timeMid2GestDiff</th>\n",
       "      <th>GestFound</th>\n",
       "    </tr>\n",
       "  </thead>\n",
       "  <tbody>\n",
       "    <tr>\n",
       "      <th>0</th>\n",
       "      <td>JW12</td>\n",
       "      <td>JW12_TP007</td>\n",
       "      <td>P</td>\n",
       "      <td>N</td>\n",
       "      <td>AE1</td>\n",
       "      <td>P-AE1-N</td>\n",
       "      <td>0.119728</td>\n",
       "      <td>-15.086</td>\n",
       "      <td>-1.4980</td>\n",
       "      <td>-29.573500</td>\n",
       "      <td>...</td>\n",
       "      <td>5.962424</td>\n",
       "      <td>5.801770</td>\n",
       "      <td>5.884162</td>\n",
       "      <td>5.904760</td>\n",
       "      <td>5.918492</td>\n",
       "      <td>5.966554</td>\n",
       "      <td>0.034330</td>\n",
       "      <td>1.0</td>\n",
       "      <td>0.000000</td>\n",
       "      <td>1</td>\n",
       "    </tr>\n",
       "    <tr>\n",
       "      <th>1</th>\n",
       "      <td>JW12</td>\n",
       "      <td>JW12_TP010</td>\n",
       "      <td>HH</td>\n",
       "      <td>D</td>\n",
       "      <td>AE1</td>\n",
       "      <td>HH-AE1-D</td>\n",
       "      <td>0.099773</td>\n",
       "      <td>-17.583</td>\n",
       "      <td>3.0545</td>\n",
       "      <td>-30.327500</td>\n",
       "      <td>...</td>\n",
       "      <td>6.339805</td>\n",
       "      <td>6.076410</td>\n",
       "      <td>6.186266</td>\n",
       "      <td>6.206864</td>\n",
       "      <td>6.241194</td>\n",
       "      <td>6.378514</td>\n",
       "      <td>0.054928</td>\n",
       "      <td>0.0</td>\n",
       "      <td>0.048724</td>\n",
       "      <td>1</td>\n",
       "    </tr>\n",
       "    <tr>\n",
       "      <th>2</th>\n",
       "      <td>JW12</td>\n",
       "      <td>JW12_TP017</td>\n",
       "      <td>N</td>\n",
       "      <td>S</td>\n",
       "      <td>AE1</td>\n",
       "      <td>N-AE1-S</td>\n",
       "      <td>0.119728</td>\n",
       "      <td>-10.927</td>\n",
       "      <td>-0.0570</td>\n",
       "      <td>-25.707001</td>\n",
       "      <td>...</td>\n",
       "      <td>1.635277</td>\n",
       "      <td>1.380066</td>\n",
       "      <td>1.510520</td>\n",
       "      <td>1.592912</td>\n",
       "      <td>1.613510</td>\n",
       "      <td>1.682170</td>\n",
       "      <td>0.102990</td>\n",
       "      <td>1.0</td>\n",
       "      <td>0.000000</td>\n",
       "      <td>1</td>\n",
       "    </tr>\n",
       "    <tr>\n",
       "      <th>3</th>\n",
       "      <td>JW12</td>\n",
       "      <td>JW12_TP017</td>\n",
       "      <td>K</td>\n",
       "      <td>R</td>\n",
       "      <td>AE1</td>\n",
       "      <td>K-AE1-R</td>\n",
       "      <td>0.079819</td>\n",
       "      <td>-22.037</td>\n",
       "      <td>12.3780</td>\n",
       "      <td>-33.766001</td>\n",
       "      <td>...</td>\n",
       "      <td>2.283803</td>\n",
       "      <td>2.100996</td>\n",
       "      <td>2.300110</td>\n",
       "      <td>2.320708</td>\n",
       "      <td>2.348172</td>\n",
       "      <td>2.444296</td>\n",
       "      <td>0.048062</td>\n",
       "      <td>0.0</td>\n",
       "      <td>0.056216</td>\n",
       "      <td>1</td>\n",
       "    </tr>\n",
       "    <tr>\n",
       "      <th>4</th>\n",
       "      <td>JW12</td>\n",
       "      <td>JW12_TP017</td>\n",
       "      <td>IY0</td>\n",
       "      <td>N</td>\n",
       "      <td>AE1</td>\n",
       "      <td>IY0-AE1-N</td>\n",
       "      <td>0.049887</td>\n",
       "      <td>-15.916</td>\n",
       "      <td>7.5980</td>\n",
       "      <td>-29.587999</td>\n",
       "      <td>...</td>\n",
       "      <td>2.583123</td>\n",
       "      <td>2.492358</td>\n",
       "      <td>2.602214</td>\n",
       "      <td>2.615946</td>\n",
       "      <td>2.636544</td>\n",
       "      <td>2.705204</td>\n",
       "      <td>0.034330</td>\n",
       "      <td>0.0</td>\n",
       "      <td>0.044035</td>\n",
       "      <td>1</td>\n",
       "    </tr>\n",
       "  </tbody>\n",
       "</table>\n",
       "<p>5 rows × 39 columns</p>\n",
       "</div>"
      ],
      "text/plain": [
       "   Subj       FName PreLab NexLab Label    Context       Dur     T1x      T1y  \\\n",
       "0  JW12  JW12_TP007      P      N   AE1    P-AE1-N  0.119728 -15.086  -1.4980   \n",
       "1  JW12  JW12_TP010     HH      D   AE1   HH-AE1-D  0.099773 -17.583   3.0545   \n",
       "2  JW12  JW12_TP017      N      S   AE1    N-AE1-S  0.119728 -10.927  -0.0570   \n",
       "3  JW12  JW12_TP017      K      R   AE1    K-AE1-R  0.079819 -22.037  12.3780   \n",
       "4  JW12  JW12_TP017    IY0      N   AE1  IY0-AE1-N  0.049887 -15.916   7.5980   \n",
       "\n",
       "         T2x    ...        segEnd      GONS      NONS      MAXC     NOFFS  \\\n",
       "0 -29.573500    ...      5.962424  5.801770  5.884162  5.904760  5.918492   \n",
       "1 -30.327500    ...      6.339805  6.076410  6.186266  6.206864  6.241194   \n",
       "2 -25.707001    ...      1.635277  1.380066  1.510520  1.592912  1.613510   \n",
       "3 -33.766001    ...      2.283803  2.100996  2.300110  2.320708  2.348172   \n",
       "4 -29.587999    ...      2.583123  2.492358  2.602214  2.615946  2.636544   \n",
       "\n",
       "      GOFFS  GesTarDur  timeMidWithinGest  timeMid2GestDiff  GestFound  \n",
       "0  5.966554   0.034330                1.0          0.000000          1  \n",
       "1  6.378514   0.054928                0.0          0.048724          1  \n",
       "2  1.682170   0.102990                1.0          0.000000          1  \n",
       "3  2.444296   0.048062                0.0          0.056216          1  \n",
       "4  2.705204   0.034330                0.0          0.044035          1  \n",
       "\n",
       "[5 rows x 39 columns]"
      ]
     },
     "execution_count": 3,
     "metadata": {},
     "output_type": "execute_result"
    }
   ],
   "source": [
    "df.head()"
   ]
  },
  {
   "cell_type": "code",
   "execution_count": 4,
   "metadata": {},
   "outputs": [],
   "source": [
    "# Load pal, pha\n",
    "with open('pal_pha.pckl', 'rb') as pckl:\n",
    "    pal, pha = pickle.load(pckl)\n",
    "# Set parameters\n",
    "artic_col = ['T1x', 'T1y', 'T2x', 'T2y', 'T3x', 'T3y',\n",
    "             'T4x', 'T4y', 'ULx', 'ULy', 'LLx', 'LLy', 'MNIx', 'MNIy']\n",
    "acous_col = ['F1', 'F2']\n",
    "vowel_list = ['AE1', 'AH1', 'AO1', 'EH1', 'IH1', 'AA1', 'IY1', 'UW1', 'UH1']\n",
    "\n",
    "# Prepare dataset\n",
    "X_raw = df.loc[:, artic_col].copy().as_matrix()\n",
    "Y_raw = df.loc[:, acous_col].copy().as_matrix()\n",
    "# Standardize before PCA\n",
    "# Articulation\n",
    "X_scaler = StandardScaler().fit(X_raw)\n",
    "X_std = X_scaler.transform(X_raw)  # cf .inverse_transform()\n",
    "# Acoustics\n",
    "Y_scaler = StandardScaler().fit(Y_raw)\n",
    "Y_std = Y_scaler.transform(Y_raw)\n",
    "\n",
    "# PCA\n",
    "pca = PCA(n_components=3)\n",
    "pca.fit(X_std)\n",
    "X_reduced = pca.transform(X_std)\n",
    "\n",
    "# Linear Regression\n",
    "#  X*w = y\n",
    "W = np.dot(np.linalg.pinv(X_reduced), Y_std)\n",
    "\n",
    "# Compute median articulation & acoustic values\n",
    "medianArtic = np.zeros((len(vowel_list), 14))\n",
    "medianAcous = np.zeros((len(vowel_list), 2))\n",
    "for i, v in enumerate(vowel_list):\n",
    "    x = df.loc[df.Label == v, artic_col].as_matrix()\n",
    "    y = df.loc[df.Label == v, acous_col].as_matrix()\n",
    "    medianArtic[i, :] = np.median(x, axis=0)  # 7x14\n",
    "    medianAcous[i, :] = np.median(y, axis=0)  # 7x2\n",
    "\n",
    "# Estimate F1, F2 for each vowel\n",
    "y_scaled_vowels = np.dot(pca.transform(X_scaler.transform(medianArtic)), W)\n",
    "y_vowels = Y_scaler.inverse_transform(y_scaled_vowels)  # 7x2"
   ]
  },
  {
   "cell_type": "code",
   "execution_count": 51,
   "metadata": {},
   "outputs": [],
   "source": [
    "# PCA space\n",
    "trace1 = go.Scatter3d(\n",
    "    x=[0],\n",
    "    y=[0],\n",
    "    z=[0],\n",
    "    mode='markers',\n",
    "    marker=dict(\n",
    "        size=5,\n",
    "        symbol='circle',\n",
    "        color='rgb(0,0,217)',\n",
    "        opacity=0.8\n",
    "    ),\n",
    ")\n",
    "\n",
    "# Articulator space\n",
    "# pharynx\n",
    "trace2 = go.Scatter(\n",
    "    x=pha[:,0],\n",
    "    y=pha[:,1],\n",
    "    mode='lines',\n",
    "    name='Pharynx',\n",
    "    xaxis='x2',\n",
    "    yaxis='y2',\n",
    ")\n",
    "# palate\n",
    "trace3 = go.Scatter(\n",
    "    x=pal[:,0],\n",
    "    y=pal[:,1],\n",
    "    mode='lines',\n",
    "    name='Palate',\n",
    "    xaxis='x2',\n",
    "    yaxis='y2',\n",
    ")\n",
    "# Reference formants\n",
    "trace4 = go.Scatter(\n",
    "    x=[0],\n",
    "    y=[0],\n",
    "    name='Formant',\n",
    "    xaxis='x3',\n",
    "    yaxis='y3',\n",
    ")\n",
    "# Dynamic formants\n",
    "\n",
    "\n",
    "data = [trace1,trace2,trace3,trace4]"
   ]
  },
  {
   "cell_type": "code",
   "execution_count": 166,
   "metadata": {},
   "outputs": [],
   "source": [
    "layout = go.Layout(\n",
    "    title='Articulation to Acoustics',\n",
    "    height=300,\n",
    "    margin=dict(\n",
    "    l=30,\n",
    "    r=30,\n",
    "    b=70,\n",
    "    t=70),\n",
    "    showlegend=False,\n",
    "    \n",
    "    scene = dict(\n",
    "        xaxis=dict(\n",
    "            title='',\n",
    "            range=[-4,4],\n",
    "            dtick=1,\n",
    "            tickfont=dict(\n",
    "                size=10,\n",
    "            ),\n",
    "        ),\n",
    "        yaxis=dict(\n",
    "            title='',\n",
    "            range=[-4,4],\n",
    "            dtick=1,\n",
    "            tickfont=dict(\n",
    "                size=10,\n",
    "            ),\n",
    "        ),\n",
    "        zaxis=dict(\n",
    "            title='',\n",
    "            range=[-4,4],\n",
    "            dtick=1,\n",
    "            tickfont=dict(\n",
    "                size=10,\n",
    "            ),\n",
    "        ),\n",
    "        domain=dict(\n",
    "            x=[0,0.26],\n",
    "        ),\n",
    "        camera=dict(\n",
    "            eye=dict(x=1.5,y=1.5,z=0.8)\n",
    "        ),\n",
    "    ),\n",
    "    xaxis2=dict(\n",
    "        title='Midsagittal view',\n",
    "        domain=[0.36,0.62],\n",
    "        range=[-90,40],\n",
    "        dtick=20,\n",
    "        tickangle=0,\n",
    "        tickfont=dict(\n",
    "            size=10,\n",
    "        ),\n",
    "    ),\n",
    "    yaxis2=dict(\n",
    "        range=[-30,30],\n",
    "        dtick=10,\n",
    "    ),\n",
    "    xaxis3=dict(\n",
    "        title='Formant space',\n",
    "        domain=[0.72,0.98]\n",
    "    )\n",
    ")"
   ]
  },
  {
   "cell_type": "code",
   "execution_count": 167,
   "metadata": {},
   "outputs": [],
   "source": [
    "annotations = dict(\n",
    "    text='PCA space',\n",
    "    showarrow=False,\n",
    "    xref='paper',\n",
    "    yref='paper',\n",
    "    x=0.1,\n",
    "    y=-0.4,\n",
    ")\n",
    "\n",
    "layout['annotations'] = [annotations]"
   ]
  },
  {
   "cell_type": "code",
   "execution_count": 168,
   "metadata": {},
   "outputs": [
    {
     "data": {
      "application/vnd.plotly.v1+json": {
       "data": [
        {
         "marker": {
          "color": "rgb(0,0,217)",
          "opacity": 0.8,
          "size": 5,
          "symbol": "circle"
         },
         "mode": "markers",
         "type": "scatter3d",
         "uid": "b15f969a-a3f8-11e8-82c5-2cf0ee27f7ca",
         "x": [
          0
         ],
         "y": [
          0
         ],
         "z": [
          0
         ]
        },
        {
         "mode": "lines",
         "name": "Pharynx",
         "type": "scatter",
         "uid": "b15f99cc-a3f8-11e8-b328-2cf0ee27f7ca",
         "x": [
          -72.05999755859375,
          -76.75
         ],
         "xaxis": "x2",
         "y": [
          18.426000595092773,
          -15.336000442504883
         ],
         "yaxis": "y2"
        },
        {
         "mode": "lines",
         "name": "Palate",
         "type": "scatter",
         "uid": "b15f9bc2-a3f8-11e8-b806-2cf0ee27f7ca",
         "x": [
          -5,
          -10,
          -15,
          -19.1299991607666,
          -23.902000427246094,
          -29.084999084472656,
          -36.6609992980957,
          -41.09700012207031,
          -45,
          -47.185001373291016,
          -51.185001373291016,
          -53.099998474121094
         ],
         "xaxis": "x2",
         "y": [
          8.5,
          11.5,
          16.799999237060547,
          19.621999740600586,
          22.420000076293945,
          22.902000427246094,
          23.39299964904785,
          23.25,
          22.649999618530273,
          22.29800033569336,
          21.792999267578125,
          21.33300018310547
         ],
         "yaxis": "y2"
        },
        {
         "name": "Formant",
         "type": "scatter",
         "uid": "b15f9d7a-a3f8-11e8-8306-2cf0ee27f7ca",
         "x": [
          0
         ],
         "xaxis": "x3",
         "y": [
          0
         ],
         "yaxis": "y3"
        }
       ],
       "layout": {
        "annotations": [
         {
          "showarrow": false,
          "text": "PCA space",
          "x": 0.1,
          "xref": "paper",
          "y": -0.4,
          "yref": "paper"
         }
        ],
        "height": 300,
        "margin": {
         "b": 70,
         "l": 30,
         "r": 30,
         "t": 70
        },
        "scene": {
         "camera": {
          "eye": {
           "x": 1.5,
           "y": 1.5,
           "z": 0.8
          }
         },
         "domain": {
          "x": [
           0,
           0.26
          ]
         },
         "xaxis": {
          "dtick": 1,
          "range": [
           -4,
           4
          ],
          "tickfont": {
           "size": 10
          },
          "title": ""
         },
         "yaxis": {
          "dtick": 1,
          "range": [
           -4,
           4
          ],
          "tickfont": {
           "size": 10
          },
          "title": ""
         },
         "zaxis": {
          "dtick": 1,
          "range": [
           -4,
           4
          ],
          "tickfont": {
           "size": 10
          },
          "title": ""
         }
        },
        "showlegend": false,
        "title": "Articulation to Acoustics",
        "xaxis2": {
         "domain": [
          0.36,
          0.62
         ],
         "dtick": 20,
         "range": [
          -90,
          40
         ],
         "tickangle": 0,
         "tickfont": {
          "size": 10
         },
         "title": "Midsagittal view"
        },
        "xaxis3": {
         "domain": [
          0.72,
          0.98
         ],
         "title": "Formant space"
        },
        "yaxis2": {
         "dtick": 10,
         "range": [
          -30,
          30
         ]
        }
       }
      },
      "text/html": [
       "<div id=\"f12136e3-1804-4b1e-aef7-5f72ea2157ea\" style=\"height: 300px; width: 100%;\" class=\"plotly-graph-div\"></div><script type=\"text/javascript\">require([\"plotly\"], function(Plotly) { window.PLOTLYENV=window.PLOTLYENV || {};window.PLOTLYENV.BASE_URL=\"https://plot.ly\";\n",
       "        Plotly.plot(\n",
       "            'f12136e3-1804-4b1e-aef7-5f72ea2157ea',\n",
       "            [{\"marker\": {\"color\": \"rgb(0,0,217)\", \"opacity\": 0.8, \"size\": 5, \"symbol\": \"circle\"}, \"mode\": \"markers\", \"x\": [0], \"y\": [0], \"z\": [0], \"type\": \"scatter3d\", \"uid\": \"b15f969a-a3f8-11e8-82c5-2cf0ee27f7ca\"}, {\"mode\": \"lines\", \"name\": \"Pharynx\", \"x\": [-72.05999755859375, -76.75], \"xaxis\": \"x2\", \"y\": [18.426000595092773, -15.336000442504883], \"yaxis\": \"y2\", \"type\": \"scatter\", \"uid\": \"b15f99cc-a3f8-11e8-b328-2cf0ee27f7ca\"}, {\"mode\": \"lines\", \"name\": \"Palate\", \"x\": [-5.0, -10.0, -15.0, -19.1299991607666, -23.902000427246094, -29.084999084472656, -36.6609992980957, -41.09700012207031, -45.0, -47.185001373291016, -51.185001373291016, -53.099998474121094], \"xaxis\": \"x2\", \"y\": [8.5, 11.5, 16.799999237060547, 19.621999740600586, 22.420000076293945, 22.902000427246094, 23.39299964904785, 23.25, 22.649999618530273, 22.29800033569336, 21.792999267578125, 21.33300018310547], \"yaxis\": \"y2\", \"type\": \"scatter\", \"uid\": \"b15f9bc2-a3f8-11e8-b806-2cf0ee27f7ca\"}, {\"name\": \"Formant\", \"x\": [0], \"xaxis\": \"x3\", \"y\": [0], \"yaxis\": \"y3\", \"type\": \"scatter\", \"uid\": \"b15f9d7a-a3f8-11e8-8306-2cf0ee27f7ca\"}],\n",
       "            {\"annotations\": [{\"showarrow\": false, \"text\": \"PCA space\", \"x\": 0.1, \"xref\": \"paper\", \"y\": -0.4, \"yref\": \"paper\"}], \"height\": 300, \"margin\": {\"b\": 70, \"l\": 30, \"r\": 30, \"t\": 70}, \"scene\": {\"camera\": {\"eye\": {\"x\": 1.5, \"y\": 1.5, \"z\": 0.8}}, \"domain\": {\"x\": [0, 0.26]}, \"xaxis\": {\"dtick\": 1, \"range\": [-4, 4], \"tickfont\": {\"size\": 10}, \"title\": \"\"}, \"yaxis\": {\"dtick\": 1, \"range\": [-4, 4], \"tickfont\": {\"size\": 10}, \"title\": \"\"}, \"zaxis\": {\"dtick\": 1, \"range\": [-4, 4], \"tickfont\": {\"size\": 10}, \"title\": \"\"}}, \"showlegend\": false, \"title\": \"Articulation to Acoustics\", \"xaxis2\": {\"domain\": [0.36, 0.62], \"dtick\": 20, \"range\": [-90, 40], \"tickangle\": 0, \"tickfont\": {\"size\": 10}, \"title\": \"Midsagittal view\"}, \"yaxis2\": {\"dtick\": 10, \"range\": [-30, 30]}, \"xaxis3\": {\"domain\": [0.72, 0.98], \"title\": \"Formant space\"}},\n",
       "            {\"showLink\": true, \"linkText\": \"Export to plot.ly\"}\n",
       "        ).then(function () {return Plotly.addFrames('f12136e3-1804-4b1e-aef7-5f72ea2157ea',{});}).then(function(){Plotly.animate('f12136e3-1804-4b1e-aef7-5f72ea2157ea');})\n",
       "        });</script>"
      ],
      "text/vnd.plotly.v1+html": [
       "<div id=\"f12136e3-1804-4b1e-aef7-5f72ea2157ea\" style=\"height: 300px; width: 100%;\" class=\"plotly-graph-div\"></div><script type=\"text/javascript\">require([\"plotly\"], function(Plotly) { window.PLOTLYENV=window.PLOTLYENV || {};window.PLOTLYENV.BASE_URL=\"https://plot.ly\";\n",
       "        Plotly.plot(\n",
       "            'f12136e3-1804-4b1e-aef7-5f72ea2157ea',\n",
       "            [{\"marker\": {\"color\": \"rgb(0,0,217)\", \"opacity\": 0.8, \"size\": 5, \"symbol\": \"circle\"}, \"mode\": \"markers\", \"x\": [0], \"y\": [0], \"z\": [0], \"type\": \"scatter3d\", \"uid\": \"b15f969a-a3f8-11e8-82c5-2cf0ee27f7ca\"}, {\"mode\": \"lines\", \"name\": \"Pharynx\", \"x\": [-72.05999755859375, -76.75], \"xaxis\": \"x2\", \"y\": [18.426000595092773, -15.336000442504883], \"yaxis\": \"y2\", \"type\": \"scatter\", \"uid\": \"b15f99cc-a3f8-11e8-b328-2cf0ee27f7ca\"}, {\"mode\": \"lines\", \"name\": \"Palate\", \"x\": [-5.0, -10.0, -15.0, -19.1299991607666, -23.902000427246094, -29.084999084472656, -36.6609992980957, -41.09700012207031, -45.0, -47.185001373291016, -51.185001373291016, -53.099998474121094], \"xaxis\": \"x2\", \"y\": [8.5, 11.5, 16.799999237060547, 19.621999740600586, 22.420000076293945, 22.902000427246094, 23.39299964904785, 23.25, 22.649999618530273, 22.29800033569336, 21.792999267578125, 21.33300018310547], \"yaxis\": \"y2\", \"type\": \"scatter\", \"uid\": \"b15f9bc2-a3f8-11e8-b806-2cf0ee27f7ca\"}, {\"name\": \"Formant\", \"x\": [0], \"xaxis\": \"x3\", \"y\": [0], \"yaxis\": \"y3\", \"type\": \"scatter\", \"uid\": \"b15f9d7a-a3f8-11e8-8306-2cf0ee27f7ca\"}],\n",
       "            {\"annotations\": [{\"showarrow\": false, \"text\": \"PCA space\", \"x\": 0.1, \"xref\": \"paper\", \"y\": -0.4, \"yref\": \"paper\"}], \"height\": 300, \"margin\": {\"b\": 70, \"l\": 30, \"r\": 30, \"t\": 70}, \"scene\": {\"camera\": {\"eye\": {\"x\": 1.5, \"y\": 1.5, \"z\": 0.8}}, \"domain\": {\"x\": [0, 0.26]}, \"xaxis\": {\"dtick\": 1, \"range\": [-4, 4], \"tickfont\": {\"size\": 10}, \"title\": \"\"}, \"yaxis\": {\"dtick\": 1, \"range\": [-4, 4], \"tickfont\": {\"size\": 10}, \"title\": \"\"}, \"zaxis\": {\"dtick\": 1, \"range\": [-4, 4], \"tickfont\": {\"size\": 10}, \"title\": \"\"}}, \"showlegend\": false, \"title\": \"Articulation to Acoustics\", \"xaxis2\": {\"domain\": [0.36, 0.62], \"dtick\": 20, \"range\": [-90, 40], \"tickangle\": 0, \"tickfont\": {\"size\": 10}, \"title\": \"Midsagittal view\"}, \"yaxis2\": {\"dtick\": 10, \"range\": [-30, 30]}, \"xaxis3\": {\"domain\": [0.72, 0.98], \"title\": \"Formant space\"}},\n",
       "            {\"showLink\": true, \"linkText\": \"Export to plot.ly\"}\n",
       "        ).then(function () {return Plotly.addFrames('f12136e3-1804-4b1e-aef7-5f72ea2157ea',{});}).then(function(){Plotly.animate('f12136e3-1804-4b1e-aef7-5f72ea2157ea');})\n",
       "        });</script>"
      ]
     },
     "metadata": {},
     "output_type": "display_data"
    }
   ],
   "source": [
    "fig = go.Figure(data=data, layout=layout)\n",
    "iplot(fig, filename='forward_mapping')"
   ]
  },
  {
   "cell_type": "code",
   "execution_count": null,
   "metadata": {},
   "outputs": [],
   "source": []
  }
 ],
 "metadata": {
  "kernelspec": {
   "display_name": "Python 3",
   "language": "python",
   "name": "python3"
  },
  "language_info": {
   "codemirror_mode": {
    "name": "ipython",
    "version": 3
   },
   "file_extension": ".py",
   "mimetype": "text/x-python",
   "name": "python",
   "nbconvert_exporter": "python",
   "pygments_lexer": "ipython3",
   "version": "3.6.4"
  },
  "varInspector": {
   "cols": {
    "lenName": 16,
    "lenType": 16,
    "lenVar": 40
   },
   "kernels_config": {
    "python": {
     "delete_cmd_postfix": "",
     "delete_cmd_prefix": "del ",
     "library": "var_list.py",
     "varRefreshCmd": "print(var_dic_list())"
    },
    "r": {
     "delete_cmd_postfix": ") ",
     "delete_cmd_prefix": "rm(",
     "library": "var_list.r",
     "varRefreshCmd": "cat(var_dic_list()) "
    }
   },
   "types_to_exclude": [
    "module",
    "function",
    "builtin_function_or_method",
    "instance",
    "_Feature"
   ],
   "window_display": false
  }
 },
 "nbformat": 4,
 "nbformat_minor": 2
}
