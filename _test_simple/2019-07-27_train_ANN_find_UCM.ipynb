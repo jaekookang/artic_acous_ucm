{
 "cells": [
  {
   "cell_type": "markdown",
   "metadata": {},
   "source": [
    "# Train ANN and find UCM space by sampling\n",
    "\n",
    "2019-07-27"
   ]
  },
  {
   "cell_type": "code",
   "execution_count": 1,
   "metadata": {},
   "outputs": [
    {
     "name": "stdout",
     "output_type": "stream",
     "text": [
      "2.0.0-beta1\n"
     ]
    }
   ],
   "source": [
    "%matplotlib inline\n",
    "import matplotlib.pyplot as plt\n",
    "from mpl_toolkits.mplot3d import Axes3D\n",
    "from ipywidgets import interact, interactive, fixed, interact_manual\n",
    "import ipywidgets as widgets\n",
    "import seaborn as sns\n",
    "\n",
    "import ipdb as pdb\n",
    "import os\n",
    "import re\n",
    "import pickle\n",
    "import numpy as np\n",
    "import pandas as pd\n",
    "from tqdm import tqdm, tqdm_notebook\n",
    "from time import time\n",
    "from itertools import product\n",
    "from sklearn.preprocessing import StandardScaler\n",
    "from sklearn.decomposition import PCA\n",
    "from sklearn.model_selection import train_test_split\n",
    "\n",
    "import tensorflow as tf\n",
    "print(tf.__version__)\n",
    "\n",
    "tf.compat.v1.random.set_random_seed(0)\n",
    "np.random.seed(0)"
   ]
  },
  {
   "cell_type": "markdown",
   "metadata": {},
   "source": [
    "## Settings"
   ]
  },
  {
   "cell_type": "code",
   "execution_count": 2,
   "metadata": {},
   "outputs": [],
   "source": [
    "spkr_data = 'JW12.pckl'\n",
    "n_components = 3  # PCA\n",
    "input_dim = n_components\n",
    "output_dim = 2\n",
    "\n",
    "BATCH_SIZE = 10\n",
    "TEST_SIZE = 0.2  # 0-1\n",
    "MAX_EPOCH = 100\n",
    "n_display = 10 # log every 10th\n",
    "n_patience = 30 # for early stopping\n",
    "\n",
    "model_file = 'forward_model.h5'"
   ]
  },
  {
   "cell_type": "code",
   "execution_count": 3,
   "metadata": {},
   "outputs": [
    {
     "data": {
      "text/html": [
       "<div>\n",
       "<style scoped>\n",
       "    .dataframe tbody tr th:only-of-type {\n",
       "        vertical-align: middle;\n",
       "    }\n",
       "\n",
       "    .dataframe tbody tr th {\n",
       "        vertical-align: top;\n",
       "    }\n",
       "\n",
       "    .dataframe thead th {\n",
       "        text-align: right;\n",
       "    }\n",
       "</style>\n",
       "<table border=\"1\" class=\"dataframe\">\n",
       "  <thead>\n",
       "    <tr style=\"text-align: right;\">\n",
       "      <th></th>\n",
       "      <th>Subj</th>\n",
       "      <th>FName</th>\n",
       "      <th>PreLab</th>\n",
       "      <th>NexLab</th>\n",
       "      <th>Label</th>\n",
       "      <th>Context</th>\n",
       "      <th>Dur</th>\n",
       "      <th>T1x</th>\n",
       "      <th>T1y</th>\n",
       "      <th>T2x</th>\n",
       "      <th>...</th>\n",
       "      <th>segEnd</th>\n",
       "      <th>GONS</th>\n",
       "      <th>NONS</th>\n",
       "      <th>MAXC</th>\n",
       "      <th>NOFFS</th>\n",
       "      <th>GOFFS</th>\n",
       "      <th>GesTarDur</th>\n",
       "      <th>timeMidWithinGest</th>\n",
       "      <th>timeMid2GestDiff</th>\n",
       "      <th>GestFound</th>\n",
       "    </tr>\n",
       "  </thead>\n",
       "  <tbody>\n",
       "    <tr>\n",
       "      <th>0</th>\n",
       "      <td>JW12</td>\n",
       "      <td>JW12_TP007</td>\n",
       "      <td>P</td>\n",
       "      <td>N</td>\n",
       "      <td>AE1</td>\n",
       "      <td>P-AE1-N</td>\n",
       "      <td>0.119728</td>\n",
       "      <td>-15.086</td>\n",
       "      <td>-1.4980</td>\n",
       "      <td>-29.573500</td>\n",
       "      <td>...</td>\n",
       "      <td>5.962424</td>\n",
       "      <td>5.801770</td>\n",
       "      <td>5.884162</td>\n",
       "      <td>5.904760</td>\n",
       "      <td>5.918492</td>\n",
       "      <td>5.966554</td>\n",
       "      <td>0.034330</td>\n",
       "      <td>1.0</td>\n",
       "      <td>0.000000</td>\n",
       "      <td>1</td>\n",
       "    </tr>\n",
       "    <tr>\n",
       "      <th>1</th>\n",
       "      <td>JW12</td>\n",
       "      <td>JW12_TP010</td>\n",
       "      <td>HH</td>\n",
       "      <td>D</td>\n",
       "      <td>AE1</td>\n",
       "      <td>HH-AE1-D</td>\n",
       "      <td>0.099773</td>\n",
       "      <td>-17.583</td>\n",
       "      <td>3.0545</td>\n",
       "      <td>-30.327500</td>\n",
       "      <td>...</td>\n",
       "      <td>6.339805</td>\n",
       "      <td>6.076410</td>\n",
       "      <td>6.186266</td>\n",
       "      <td>6.206864</td>\n",
       "      <td>6.241194</td>\n",
       "      <td>6.378514</td>\n",
       "      <td>0.054928</td>\n",
       "      <td>0.0</td>\n",
       "      <td>0.048724</td>\n",
       "      <td>1</td>\n",
       "    </tr>\n",
       "    <tr>\n",
       "      <th>2</th>\n",
       "      <td>JW12</td>\n",
       "      <td>JW12_TP017</td>\n",
       "      <td>N</td>\n",
       "      <td>S</td>\n",
       "      <td>AE1</td>\n",
       "      <td>N-AE1-S</td>\n",
       "      <td>0.119728</td>\n",
       "      <td>-10.927</td>\n",
       "      <td>-0.0570</td>\n",
       "      <td>-25.707001</td>\n",
       "      <td>...</td>\n",
       "      <td>1.635277</td>\n",
       "      <td>1.380066</td>\n",
       "      <td>1.510520</td>\n",
       "      <td>1.592912</td>\n",
       "      <td>1.613510</td>\n",
       "      <td>1.682170</td>\n",
       "      <td>0.102990</td>\n",
       "      <td>1.0</td>\n",
       "      <td>0.000000</td>\n",
       "      <td>1</td>\n",
       "    </tr>\n",
       "    <tr>\n",
       "      <th>3</th>\n",
       "      <td>JW12</td>\n",
       "      <td>JW12_TP017</td>\n",
       "      <td>K</td>\n",
       "      <td>R</td>\n",
       "      <td>AE1</td>\n",
       "      <td>K-AE1-R</td>\n",
       "      <td>0.079819</td>\n",
       "      <td>-22.037</td>\n",
       "      <td>12.3780</td>\n",
       "      <td>-33.766001</td>\n",
       "      <td>...</td>\n",
       "      <td>2.283803</td>\n",
       "      <td>2.100996</td>\n",
       "      <td>2.300110</td>\n",
       "      <td>2.320708</td>\n",
       "      <td>2.348172</td>\n",
       "      <td>2.444296</td>\n",
       "      <td>0.048062</td>\n",
       "      <td>0.0</td>\n",
       "      <td>0.056216</td>\n",
       "      <td>1</td>\n",
       "    </tr>\n",
       "    <tr>\n",
       "      <th>4</th>\n",
       "      <td>JW12</td>\n",
       "      <td>JW12_TP017</td>\n",
       "      <td>IY0</td>\n",
       "      <td>N</td>\n",
       "      <td>AE1</td>\n",
       "      <td>IY0-AE1-N</td>\n",
       "      <td>0.049887</td>\n",
       "      <td>-15.916</td>\n",
       "      <td>7.5980</td>\n",
       "      <td>-29.587999</td>\n",
       "      <td>...</td>\n",
       "      <td>2.583123</td>\n",
       "      <td>2.492358</td>\n",
       "      <td>2.602214</td>\n",
       "      <td>2.615946</td>\n",
       "      <td>2.636544</td>\n",
       "      <td>2.705204</td>\n",
       "      <td>0.034330</td>\n",
       "      <td>0.0</td>\n",
       "      <td>0.044035</td>\n",
       "      <td>1</td>\n",
       "    </tr>\n",
       "  </tbody>\n",
       "</table>\n",
       "<p>5 rows × 39 columns</p>\n",
       "</div>"
      ],
      "text/plain": [
       "   Subj       FName PreLab NexLab Label    Context       Dur     T1x      T1y  \\\n",
       "0  JW12  JW12_TP007      P      N   AE1    P-AE1-N  0.119728 -15.086  -1.4980   \n",
       "1  JW12  JW12_TP010     HH      D   AE1   HH-AE1-D  0.099773 -17.583   3.0545   \n",
       "2  JW12  JW12_TP017      N      S   AE1    N-AE1-S  0.119728 -10.927  -0.0570   \n",
       "3  JW12  JW12_TP017      K      R   AE1    K-AE1-R  0.079819 -22.037  12.3780   \n",
       "4  JW12  JW12_TP017    IY0      N   AE1  IY0-AE1-N  0.049887 -15.916   7.5980   \n",
       "\n",
       "         T2x  ...    segEnd      GONS      NONS      MAXC     NOFFS     GOFFS  \\\n",
       "0 -29.573500  ...  5.962424  5.801770  5.884162  5.904760  5.918492  5.966554   \n",
       "1 -30.327500  ...  6.339805  6.076410  6.186266  6.206864  6.241194  6.378514   \n",
       "2 -25.707001  ...  1.635277  1.380066  1.510520  1.592912  1.613510  1.682170   \n",
       "3 -33.766001  ...  2.283803  2.100996  2.300110  2.320708  2.348172  2.444296   \n",
       "4 -29.587999  ...  2.583123  2.492358  2.602214  2.615946  2.636544  2.705204   \n",
       "\n",
       "   GesTarDur  timeMidWithinGest  timeMid2GestDiff  GestFound  \n",
       "0   0.034330                1.0          0.000000          1  \n",
       "1   0.054928                0.0          0.048724          1  \n",
       "2   0.102990                1.0          0.000000          1  \n",
       "3   0.048062                0.0          0.056216          1  \n",
       "4   0.034330                0.0          0.044035          1  \n",
       "\n",
       "[5 rows x 39 columns]"
      ]
     },
     "execution_count": 3,
     "metadata": {},
     "output_type": "execute_result"
    }
   ],
   "source": [
    "# Load speaker data\n",
    "with open(spkr_data, 'rb') as f:\n",
    "    SPKR = pickle.load(f)\n",
    "    \n",
    "SPKR.head()"
   ]
  },
  {
   "cell_type": "code",
   "execution_count": 4,
   "metadata": {},
   "outputs": [
    {
     "data": {
      "text/plain": [
       "Index(['Subj', 'FName', 'PreLab', 'NexLab', 'Label', 'Context', 'Dur', 'T1x',\n",
       "       'T1y', 'T2x', 'T2y', 'T3x', 'T3y', 'T4x', 'T4y', 'ULx', 'ULy', 'LLx',\n",
       "       'LLy', 'MNIx', 'MNIy', 'F0', 'F1', 'F2', 'F3', 'A1', 'A2', 'A3',\n",
       "       'segStart', 'segEnd', 'GONS', 'NONS', 'MAXC', 'NOFFS', 'GOFFS',\n",
       "       'GesTarDur', 'timeMidWithinGest', 'timeMid2GestDiff', 'GestFound'],\n",
       "      dtype='object')"
      ]
     },
     "execution_count": 4,
     "metadata": {},
     "output_type": "execute_result"
    }
   ],
   "source": [
    "SPKR.columns"
   ]
  },
  {
   "cell_type": "markdown",
   "metadata": {},
   "source": [
    "## Prepare data\n",
    "- Extract data\n",
    "- PCA on X and then zscore\n",
    "- zscore on y\n",
    "- tf.data"
   ]
  },
  {
   "cell_type": "code",
   "execution_count": 5,
   "metadata": {},
   "outputs": [
    {
     "name": "stdout",
     "output_type": "stream",
     "text": [
      "X shape (945, 14)\n",
      "y shape (945, 2)\n"
     ]
    }
   ],
   "source": [
    "# Raw X, y data\n",
    "X_raw = SPKR[['T1x','T1y', 'T2x', 'T2y', 'T3x', 'T3y', 'T4x', 'T4y', 'ULx', 'ULy', 'LLx','LLy', 'MNIx', 'MNIy']].values\n",
    "y_raw = SPKR[['F1', 'F2']].values\n",
    "\n",
    "print('X shape', X_raw.shape)\n",
    "print('y shape', y_raw.shape)"
   ]
  },
  {
   "cell_type": "code",
   "execution_count": 6,
   "metadata": {},
   "outputs": [
    {
     "name": "stdout",
     "output_type": "stream",
     "text": [
      "(945, 3) [ 1.13959400e-16 -5.36490311e-16 -2.40842032e-17] [1. 1. 1.]\n"
     ]
    }
   ],
   "source": [
    "# PCA on X --> zscore\n",
    "pca = PCA(n_components)\n",
    "pca.fit(X_raw)\n",
    "X_pc = pca.transform(X_raw)\n",
    "X_scaler = StandardScaler()\n",
    "X_scaler.fit(X_pc)\n",
    "X = X_scaler.transform(X_pc)\n",
    "\n",
    "print(X.shape, X.mean(axis=0), X.std(axis=0))"
   ]
  },
  {
   "cell_type": "code",
   "execution_count": 7,
   "metadata": {},
   "outputs": [
    {
     "name": "stdout",
     "output_type": "stream",
     "text": [
      "(945, 2) [-3.0075883e-16  9.0227649e-17] [1. 1.]\n"
     ]
    }
   ],
   "source": [
    "# zscore on y\n",
    "Y_scaler = StandardScaler()\n",
    "Y_scaler.fit(y_raw)\n",
    "Y = Y_scaler.transform(y_raw)\n",
    "\n",
    "print(Y.shape, Y.mean(axis=0), Y.std(axis=0))"
   ]
  },
  {
   "cell_type": "code",
   "execution_count": 8,
   "metadata": {},
   "outputs": [
    {
     "name": "stdout",
     "output_type": "stream",
     "text": [
      "Y labels: 945\n"
     ]
    }
   ],
   "source": [
    "# Get y label for stratifying testset\n",
    "ylab = SPKR.Label.values.tolist()\n",
    "print('Y labels:', len(ylab))"
   ]
  },
  {
   "cell_type": "code",
   "execution_count": 9,
   "metadata": {},
   "outputs": [
    {
     "name": "stdout",
     "output_type": "stream",
     "text": [
      "X train, Y_train: (756, 3) (756, 2)\n",
      "X test, Y_test: (189, 3) (189, 2)\n"
     ]
    }
   ],
   "source": [
    "# Split dataset\n",
    "X_train, X_test, Y_train, Y_test = train_test_split(X, Y, \n",
    "                                                    test_size=TEST_SIZE, random_state=0, \n",
    "                                                    stratify=ylab)\n",
    "\n",
    "print('X train, Y_train:', X_train.shape, Y_train.shape)\n",
    "print('X test, Y_test:', X_test.shape, Y_test.shape)"
   ]
  },
  {
   "cell_type": "code",
   "execution_count": 10,
   "metadata": {},
   "outputs": [],
   "source": [
    "def make_dataset(x_data, y_data, is_training=True):\n",
    "    '''Make dataset object\n",
    "    '''\n",
    "    dataset = tf.data.Dataset.from_tensor_slices((x_data, y_data))\n",
    "    if is_training:\n",
    "        dataset = dataset.shuffle(len(x_data))\n",
    "    dataset = dataset.batch(BATCH_SIZE, drop_remainder=True)\n",
    "    dataset = dataset.repeat()\n",
    "    return dataset"
   ]
  },
  {
   "cell_type": "code",
   "execution_count": 11,
   "metadata": {},
   "outputs": [
    {
     "name": "stderr",
     "output_type": "stream",
     "text": [
      "WARNING: Logging before flag parsing goes to stderr.\n",
      "W0727 22:00:43.334278 4504118720 deprecation.py:323] From /Users/jaegukang/anaconda3/lib/python3.6/site-packages/tensorflow/python/data/util/random_seed.py:58: add_dispatch_support.<locals>.wrapper (from tensorflow.python.ops.array_ops) is deprecated and will be removed in a future version.\n",
      "Instructions for updating:\n",
      "Use tf.where in 2.0, which has the same broadcast rule as np.where\n"
     ]
    }
   ],
   "source": [
    "# Make dataset objects\n",
    "train_dataset = make_dataset(X_train, Y_train, is_training=True)\n",
    "test_dataset = make_dataset(X_test, Y_test, is_training=False)"
   ]
  },
  {
   "cell_type": "markdown",
   "metadata": {},
   "source": [
    "## Train"
   ]
  },
  {
   "cell_type": "code",
   "execution_count": 12,
   "metadata": {},
   "outputs": [],
   "source": [
    "def build_model():\n",
    "    '''Build fc model'''\n",
    "    model = tf.keras.Sequential()\n",
    "    model.add(tf.keras.layers.Dense(10, input_shape=(input_dim,), activation='tanh', use_bias=True, kernel_initializer='glorot_uniform'))\n",
    "    model.add(tf.keras.layers.Dropout(0.2))\n",
    "    model.add(tf.keras.layers.Dense(10, activation='tanh', use_bias=True, kernel_initializer='glorot_uniform'))\n",
    "    model.add(tf.keras.layers.Dropout(0.2))\n",
    "    model.add(tf.keras.layers.Dense(output_dim, activation='linear', use_bias=True, kernel_initializer='glorot_uniform'))\n",
    "    return model\n",
    "\n",
    "class NBatchLogger(tf.keras.callbacks.Callback):\n",
    "    \"\"\"\n",
    "    A Logger that log average performance per `display` steps.\n",
    "    \"\"\"\n",
    "    def __init__(self, display):\n",
    "        self.epoch = 0\n",
    "        self.display = display\n",
    "        self.logs = {}\n",
    "\n",
    "    def on_epoch_end(self, epoch, logs={}):\n",
    "        self.epoch += 1\n",
    "        if self.epoch % self.display == 0:\n",
    "            print(f'Epoch: {self.epoch}/{MAX_EPOCH} ... loss:{logs[\"loss\"]:4f} acc:{logs[\"accuracy\"]:4f} ', end='')\n",
    "            print(f'val_loss:{logs[\"val_loss\"]:.4f} val_acc:{logs[\"val_accuracy\"]:.4f}', end='\\n')\n",
    "        self.logs = logs\n",
    "        \n",
    "    def on_train_end(self, logs={}):\n",
    "        logs = logs or self.logs\n",
    "        print(f'Epoch: {self.epoch}/{MAX_EPOCH} ... loss:{logs[\"loss\"]:4f} acc:{logs[\"accuracy\"]:4f} ', end='')\n",
    "        print(f'val_loss:{logs[\"val_loss\"]:.4f} val_acc:{logs[\"val_accuracy\"]:.4f}', end='\\n')"
   ]
  },
  {
   "cell_type": "code",
   "execution_count": 13,
   "metadata": {},
   "outputs": [
    {
     "name": "stdout",
     "output_type": "stream",
     "text": [
      "Model compiled\n"
     ]
    }
   ],
   "source": [
    "model = build_model()\n",
    "model.compile(optimizer='Adam',\n",
    "              loss='mse',\n",
    "              metrics=['accuracy', 'mse'])\n",
    "print('Model compiled')"
   ]
  },
  {
   "cell_type": "code",
   "execution_count": 14,
   "metadata": {},
   "outputs": [
    {
     "name": "stdout",
     "output_type": "stream",
     "text": [
      "Epoch: 10/100 ... loss:0.327284 acc:0.877333 val_loss:0.2317 val_acc:0.9013\n",
      "Epoch: 20/100 ... loss:0.264067 acc:0.902667 val_loss:0.2090 val_acc:0.9013\n",
      "Epoch: 30/100 ... loss:0.238598 acc:0.902667 val_loss:0.2027 val_acc:0.9013\n",
      "Epoch: 40/100 ... loss:0.243642 acc:0.889333 val_loss:0.1998 val_acc:0.9067\n",
      "Epoch: 50/100 ... loss:0.223747 acc:0.902667 val_loss:0.1999 val_acc:0.9000\n",
      "Epoch: 60/100 ... loss:0.216373 acc:0.904000 val_loss:0.1985 val_acc:0.9107\n",
      "Epoch: 70/100 ... loss:0.206377 acc:0.901333 val_loss:0.2006 val_acc:0.8987\n",
      "Epoch: 73/100 ... loss:0.208244 acc:0.900000 val_loss:0.2006 val_acc:0.9107\n",
      "Time elapsed: 0.6256 min\n"
     ]
    }
   ],
   "source": [
    "t0 = time()\n",
    "hist = model.fit(train_dataset, epochs=MAX_EPOCH, steps_per_epoch=len(X_train) // BATCH_SIZE,\n",
    "                 validation_data=test_dataset, validation_steps=len(Y_train) // BATCH_SIZE,\n",
    "                 callbacks=[\n",
    "                     tf.keras.callbacks.EarlyStopping(monitor='val_loss', patience=n_patience),\n",
    "                     tf.keras.callbacks.ModelCheckpoint(filepath=model_file, monitor='val_loss', save_best_only=True),\n",
    "                     NBatchLogger(n_display)\n",
    "                 ],\n",
    "                 verbose=0)\n",
    "t1 = time()\n",
    "print(f'Time elapsed: {(t1-t0)/60:.4f} min') # 7.5 min (gpu)"
   ]
  },
  {
   "cell_type": "code",
   "execution_count": 15,
   "metadata": {},
   "outputs": [
    {
     "data": {
      "text/plain": [
       "dict_keys(['loss', 'accuracy', 'mse', 'val_loss', 'val_accuracy', 'val_mse'])"
      ]
     },
     "execution_count": 15,
     "metadata": {},
     "output_type": "execute_result"
    }
   ],
   "source": [
    "hist.history.keys()"
   ]
  },
  {
   "cell_type": "code",
   "execution_count": 16,
   "metadata": {},
   "outputs": [
    {
     "data": {
      "text/plain": [
       "<matplotlib.legend.Legend at 0x1a298ccc88>"
      ]
     },
     "execution_count": 16,
     "metadata": {},
     "output_type": "execute_result"
    },
    {
     "data": {
      "image/png": "[encoded data removed]",
      "text/plain": [
       "<Figure size 1008x288 with 3 Axes>"
      ]
     },
     "metadata": {},
     "output_type": "display_data"
    }
   ],
   "source": [
    "fig, (ax1, ax2, ax3) = plt.subplots(1,3,figsize=(14,4), facecolor='white')\n",
    "# Loss\n",
    "ax1.set_title('Loss')\n",
    "ax1.plot(hist.history['loss'], label='train_loss')\n",
    "ax1.plot(hist.history['val_loss'], label='val_loss')\n",
    "ax1.legend()\n",
    "# Accuracy\n",
    "ax2.set_title('Accuracy')\n",
    "ax2.plot(hist.history['accuracy'], label='train_acc')\n",
    "ax2.plot(hist.history['val_accuracy'], label='val_acc')\n",
    "ax2.set_ylim([0,1])\n",
    "ax2.legend()\n",
    "# MSE\n",
    "ax3.set_title('MSE')\n",
    "ax3.plot(hist.history['mse'], label='train_mse')\n",
    "ax3.plot(hist.history['val_mse'], label='val_mse')\n",
    "ax3.legend()"
   ]
  },
  {
   "cell_type": "markdown",
   "metadata": {},
   "source": [
    "## Test the model"
   ]
  },
  {
   "cell_type": "code",
   "execution_count": 17,
   "metadata": {},
   "outputs": [],
   "source": [
    "def pca_forward_plot(pc1, pc2, pc3):\n",
    "    '''Plot forward mapping from PCs'''\n",
    "    x = np.array([[pc1, pc2,pc3]])\n",
    "\n",
    "    fig = plt.figure(facecolor='white', figsize=(15, 6))\n",
    "    \n",
    "    ### PCA space ###\n",
    "    ax1 = fig.add_subplot(121, projection='3d')\n",
    "    ax1.scatter(pc1, pc2, pc3, c='black')\n",
    "    ax1.set_xlabel('PC1')\n",
    "    ax1.set_ylabel('PC2')\n",
    "    ax1.set_zlabel('PC3')\n",
    "    ax1.set_xlim([-r, r])\n",
    "    ax1.set_ylim([-r, r])\n",
    "    ax1.set_zlim([-r, r])\n",
    "    ax1.set_title('PCA space', fontsize=25)\n",
    "\n",
    "    ### F1-F2 space ###\n",
    "    # Estimate F1, F2\n",
    "    y_scaled = model.predict(x)\n",
    "    y = Y_scaler.inverse_transform(y_scaled).squeeze()\n",
    "    F1, F2 = y[0], y[1]\n",
    "    \n",
    "    # Draw F1, F2\n",
    "    ax2 = fig.add_subplot(122)\n",
    "    ax2.plot(F2, F1, marker='o', markersize=5, color='red')\n",
    "    ax2.invert_xaxis()\n",
    "    ax2.invert_yaxis()\n",
    "    ax2.set_xlim([2100, 800])\n",
    "    ax2.set_ylim([700, 200])\n",
    "    ax2.set_title('F1-F2 space', fontsize=25)\n",
    "    ax2.minorticks_on()\n",
    "    ax2.set_axisbelow(True)\n",
    "    ax2.grid(which='major', linestyle='-', linewidth='0.5', color='black')\n",
    "    ax2.grid(which='minor', linestyle=':', linewidth='0.5', color='gray')"
   ]
  },
  {
   "cell_type": "code",
   "execution_count": 18,
   "metadata": {},
   "outputs": [
    {
     "data": {
      "application/vnd.jupyter.widget-view+json": {
       "model_id": "f7dcee4bbd4f44caadf08ae41560b127",
       "version_major": 2,
       "version_minor": 0
      },
      "text/plain": [
       "interactive(children=(FloatSlider(value=0.0, description='pc1', max=3.0, min=-3.0), FloatSlider(value=0.0, des…"
      ]
     },
     "metadata": {},
     "output_type": "display_data"
    }
   ],
   "source": [
    "# Input range\n",
    "r = 3\n",
    "\n",
    "interactive_plot = interactive(pca_forward_plot, \n",
    "                               pc1=(-r,r,0.1), pc2=(-r,r,0.1), pc3=(-r,r,0.1),continuous_update=False)\n",
    "output = interactive_plot.children[-1]\n",
    "interactive_plot"
   ]
  },
  {
   "cell_type": "markdown",
   "metadata": {},
   "source": [
    "## Identify possible X combinations given Y"
   ]
  },
  {
   "cell_type": "code",
   "execution_count": 19,
   "metadata": {},
   "outputs": [
    {
     "name": "stdout",
     "output_type": "stream",
     "text": [
      "Possible combinations: 27000\n"
     ]
    }
   ],
   "source": [
    "target = np.array([[300, 1800]]) # y target\n",
    "\n",
    "r = 4  # PC range\n",
    "th = 10  # threshold for formants (Hz)\n",
    "n_sample = 30\n",
    "\n",
    "pc1 = np.linspace(-r, r, n_sample)\n",
    "pc2 = np.linspace(-r, r, n_sample)\n",
    "pc3 = np.linspace(-r, r, n_sample)\n",
    "\n",
    "# Get all combinations\n",
    "C = list(product(*[pc1, pc2, pc3]))\n",
    "\n",
    "print('Possible combinations:', len(C))"
   ]
  },
  {
   "cell_type": "code",
   "execution_count": 25,
   "metadata": {},
   "outputs": [
    {
     "data": {
      "application/vnd.jupyter.widget-view+json": {
       "model_id": "6df0b7a1189e49b09f620d50573b26ee",
       "version_major": 2,
       "version_minor": 0
      },
      "text/plain": [
       "HBox(children=(IntProgress(value=0, max=27000), HTML(value='')))"
      ]
     },
     "metadata": {},
     "output_type": "display_data"
    },
    {
     "name": "stdout",
     "output_type": "stream",
     "text": [
      "\n"
     ]
    }
   ],
   "source": [
    "def rmse(pred, target):\n",
    "    return np.sqrt(((pred - target) ** 2).mean())\n",
    "\n",
    "# Iterate over combinations\n",
    "err = []\n",
    "val = []\n",
    "for i in tqdm_notebook(range(len(C))):\n",
    "    c = C[i]\n",
    "\n",
    "    y_ = model.predict(np.array([c]))\n",
    "    y = Y_scaler.inverse_transform(y_)\n",
    "    \n",
    "    e = rmse(y, target)\n",
    "    if e < th:\n",
    "        err.append(e)\n",
    "        val.append(c)"
   ]
  },
  {
   "cell_type": "code",
   "execution_count": 29,
   "metadata": {},
   "outputs": [
    {
     "name": "stdout",
     "output_type": "stream",
     "text": [
      "44/27000 are below threshold (10 Hz)\n",
      "\n"
     ]
    },
    {
     "data": {
      "image/png": "[encoded data removed]",
      "text/plain": [
       "<Figure size 1008x360 with 1 Axes>"
      ]
     },
     "metadata": {},
     "output_type": "display_data"
    }
   ],
   "source": [
    "show_plot = True\n",
    "\n",
    "if show_plot:\n",
    "    fig, ax = plt.subplots(figsize=(14,5), facecolor='white')\n",
    "    ax.bar(range(len(err)), err);\n",
    "    ax.plot([0, len(val)], [th, th], 'r--')\n",
    "    ax.set_ylabel('RMSE (Hz)')\n",
    "    ax.set_xlabel(f'combinations below threshold ({th} Hz)')\n",
    "\n",
    "print(f'{len(idx)}/{len(out)} are below threshold ({th} Hz)\\n')"
   ]
  },
  {
   "cell_type": "markdown",
   "metadata": {},
   "source": [
    "## Visualize"
   ]
  },
  {
   "cell_type": "code",
   "execution_count": 36,
   "metadata": {},
   "outputs": [],
   "source": [
    "def pca_combination_plot(i):\n",
    "    '''Plot forward mapping from PCs'''\n",
    "    pc1, pc2, pc3 = val[i]\n",
    "    x = np.array(val[i]).reshape((1, -1))\n",
    "    val_ = np.array(val)\n",
    "\n",
    "    fig = plt.figure(facecolor='white', figsize=(15, 6))\n",
    "    ### PCA space ###\n",
    "    ax1 = fig.add_subplot(121, projection='3d')\n",
    "    ax1.scatter(val_[:,0], val_[:,1], val_[:,2], 'ko')\n",
    "    ax1.scatter(pc1, pc2, pc3, c='r', zorder=10)\n",
    "    ax1.set_xlabel('PC1')\n",
    "    ax1.set_ylabel('PC2')\n",
    "    ax1.set_zlabel('PC3')\n",
    "    ax1.set_xlim([-r, r])\n",
    "    ax1.set_ylim([-r, r])\n",
    "    ax1.set_zlim([-r, r])\n",
    "    ax1.set_title('PCA space', fontsize=25)\n",
    "\n",
    "    ### F1-F2 space ###\n",
    "    # Estimate F1, F2\n",
    "    y_scaled = model.predict(x)\n",
    "    y = Y_scaler.inverse_transform(y_scaled).squeeze()\n",
    "    F1, F2 = y[0], y[1]\n",
    "    # Draw F1, F2\n",
    "    ax2 = fig.add_subplot(122)\n",
    "    ax2.plot(target.squeeze()[1], target.squeeze()[0], marker='o', color='red')\n",
    "    ax2.plot(F2, F1, marker='o', markersize=5, color='black')\n",
    "    ax2.invert_xaxis()\n",
    "    ax2.invert_yaxis()\n",
    "    ax2.set_xlim([2100, 800])\n",
    "    ax2.set_ylim([700, 200])\n",
    "    ax2.set_title('F1-F2 space', fontsize=25)\n",
    "    ax2.minorticks_on()\n",
    "    ax2.set_axisbelow(True)\n",
    "    ax2.grid(which='major', linestyle='-', linewidth='0.5', color='black')\n",
    "    ax2.grid(which='minor', linestyle=':', linewidth='0.5', color='gray')"
   ]
  },
  {
   "cell_type": "code",
   "execution_count": 37,
   "metadata": {},
   "outputs": [
    {
     "data": {
      "application/vnd.jupyter.widget-view+json": {
       "model_id": "b5fd0e3f7934499c83662527266ea38f",
       "version_major": 2,
       "version_minor": 0
      },
      "text/plain": [
       "interactive(children=(IntSlider(value=21, description='i', max=43), Output()), _dom_classes=('widget-interact'…"
      ]
     },
     "metadata": {},
     "output_type": "display_data"
    }
   ],
   "source": [
    "# Input range\n",
    "interactive_plot = interactive(pca_combination_plot, \n",
    "                               i=(0, len(candidate)-1, 1),continuous_update=True)\n",
    "output = interactive_plot.children[-1]\n",
    "interactive_plot"
   ]
  },
  {
   "cell_type": "markdown",
   "metadata": {},
   "source": [
    "# Explore the method of optimizing the inputs given outputs --> `2019-07-27_train_inputs.ipynb`"
   ]
  }
 ],
 "metadata": {
  "kernelspec": {
   "display_name": "Python 3",
   "language": "python",
   "name": "python3"
  },
  "language_info": {
   "codemirror_mode": {
    "name": "ipython",
    "version": 3
   },
   "file_extension": ".py",
   "mimetype": "text/x-python",
   "name": "python",
   "nbconvert_exporter": "python",
   "pygments_lexer": "ipython3",
   "version": "3.6.8"
  }
 },
 "nbformat": 4,
 "nbformat_minor": 4
}
