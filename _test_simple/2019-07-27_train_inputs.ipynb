{
 "cells": [
  {
   "cell_type": "markdown",
   "metadata": {},
   "source": [
    "# Optimize inputs given output\n",
    "\n",
    "- Find inputs by optimizing from the learned forward model with given output.\n",
    "    - 1) By randomizing the inputs multiple times, get the optimized inputs\n",
    "    - 2) Get a single input instance, move along the null space by the small amount, compute the new null space and move along the line  (repeat)\n",
    "\n",
    "2019-07-27"
   ]
  },
  {
   "cell_type": "code",
   "execution_count": 30,
   "metadata": {},
   "outputs": [],
   "source": [
    "%matplotlib inline\n",
    "import matplotlib.pyplot as plt\n",
    "from mpl_toolkits.mplot3d import Axes3D\n",
    "from ipywidgets import interact, interactive, fixed, interact_manual\n",
    "import ipywidgets as widgets\n",
    "import seaborn as sns\n",
    "\n",
    "import ipdb as pdb\n",
    "import os\n",
    "import re\n",
    "import pickle\n",
    "import numpy as np\n",
    "import pandas as pd\n",
    "from tqdm import tqdm, tqdm_notebook\n",
    "from time import time\n",
    "from itertools import product\n",
    "from sklearn.preprocessing import StandardScaler\n",
    "from sklearn.decomposition import PCA\n",
    "from sklearn.model_selection import train_test_split\n",
    "\n",
    "import tensorflow as tf\n",
    "from tensorflow.keras.layers import Input\n",
    "from tensorflow.keras.models import Model\n",
    "import tensorflow.keras.backend as K\n",
    "print(tf.__version__)\n",
    "\n",
    "tf.compat.v1.random.set_random_seed(0)\n",
    "np.random.seed(0)"
   ]
  },
  {
   "cell_type": "code",
   "execution_count": 30,
   "metadata": {},
   "outputs": [
    {
     "name": "stdout",
     "output_type": "stream",
     "text": [
      "2.0.0-beta1\n"
     ]
    }
   ],
   "source": [
    "# Disable eager execution\n",
    "tf.compat.v1.disable_eager_execution()"
   ]
  },
  {
   "cell_type": "markdown",
   "metadata": {},
   "source": [
    "## Settings"
   ]
  },
  {
   "cell_type": "code",
   "execution_count": 31,
   "metadata": {},
   "outputs": [],
   "source": [
    "#####################################################\n",
    "target = np.array([[300, 1800]]) # y target (F1, F2)\n",
    "#####################################################\n",
    "\n",
    "spkr_data = 'JW12.pckl'\n",
    "n_components = 3  # PCA\n",
    "input_dim = n_components\n",
    "output_dim = 2\n",
    "\n",
    "BATCH_SIZE = 10\n",
    "TEST_SIZE = 0.2  # 0-1\n",
    "MAX_EPOCH = 100\n",
    "n_display = 10 # log every 10th\n",
    "n_patience = 30 # for early stopping\n",
    "\n",
    "model_file = 'forward_model.h5'"
   ]
  },
  {
   "cell_type": "code",
   "execution_count": 32,
   "metadata": {},
   "outputs": [
    {
     "data": {
      "text/html": [
       "<div>\n",
       "<style scoped>\n",
       "    .dataframe tbody tr th:only-of-type {\n",
       "        vertical-align: middle;\n",
       "    }\n",
       "\n",
       "    .dataframe tbody tr th {\n",
       "        vertical-align: top;\n",
       "    }\n",
       "\n",
       "    .dataframe thead th {\n",
       "        text-align: right;\n",
       "    }\n",
       "</style>\n",
       "<table border=\"1\" class=\"dataframe\">\n",
       "  <thead>\n",
       "    <tr style=\"text-align: right;\">\n",
       "      <th></th>\n",
       "      <th>Subj</th>\n",
       "      <th>FName</th>\n",
       "      <th>PreLab</th>\n",
       "      <th>NexLab</th>\n",
       "      <th>Label</th>\n",
       "      <th>Context</th>\n",
       "      <th>Dur</th>\n",
       "      <th>T1x</th>\n",
       "      <th>T1y</th>\n",
       "      <th>T2x</th>\n",
       "      <th>...</th>\n",
       "      <th>segEnd</th>\n",
       "      <th>GONS</th>\n",
       "      <th>NONS</th>\n",
       "      <th>MAXC</th>\n",
       "      <th>NOFFS</th>\n",
       "      <th>GOFFS</th>\n",
       "      <th>GesTarDur</th>\n",
       "      <th>timeMidWithinGest</th>\n",
       "      <th>timeMid2GestDiff</th>\n",
       "      <th>GestFound</th>\n",
       "    </tr>\n",
       "  </thead>\n",
       "  <tbody>\n",
       "    <tr>\n",
       "      <th>0</th>\n",
       "      <td>JW12</td>\n",
       "      <td>JW12_TP007</td>\n",
       "      <td>P</td>\n",
       "      <td>N</td>\n",
       "      <td>AE1</td>\n",
       "      <td>P-AE1-N</td>\n",
       "      <td>0.119728</td>\n",
       "      <td>-15.086</td>\n",
       "      <td>-1.4980</td>\n",
       "      <td>-29.573500</td>\n",
       "      <td>...</td>\n",
       "      <td>5.962424</td>\n",
       "      <td>5.801770</td>\n",
       "      <td>5.884162</td>\n",
       "      <td>5.904760</td>\n",
       "      <td>5.918492</td>\n",
       "      <td>5.966554</td>\n",
       "      <td>0.034330</td>\n",
       "      <td>1.0</td>\n",
       "      <td>0.000000</td>\n",
       "      <td>1</td>\n",
       "    </tr>\n",
       "    <tr>\n",
       "      <th>1</th>\n",
       "      <td>JW12</td>\n",
       "      <td>JW12_TP010</td>\n",
       "      <td>HH</td>\n",
       "      <td>D</td>\n",
       "      <td>AE1</td>\n",
       "      <td>HH-AE1-D</td>\n",
       "      <td>0.099773</td>\n",
       "      <td>-17.583</td>\n",
       "      <td>3.0545</td>\n",
       "      <td>-30.327500</td>\n",
       "      <td>...</td>\n",
       "      <td>6.339805</td>\n",
       "      <td>6.076410</td>\n",
       "      <td>6.186266</td>\n",
       "      <td>6.206864</td>\n",
       "      <td>6.241194</td>\n",
       "      <td>6.378514</td>\n",
       "      <td>0.054928</td>\n",
       "      <td>0.0</td>\n",
       "      <td>0.048724</td>\n",
       "      <td>1</td>\n",
       "    </tr>\n",
       "    <tr>\n",
       "      <th>2</th>\n",
       "      <td>JW12</td>\n",
       "      <td>JW12_TP017</td>\n",
       "      <td>N</td>\n",
       "      <td>S</td>\n",
       "      <td>AE1</td>\n",
       "      <td>N-AE1-S</td>\n",
       "      <td>0.119728</td>\n",
       "      <td>-10.927</td>\n",
       "      <td>-0.0570</td>\n",
       "      <td>-25.707001</td>\n",
       "      <td>...</td>\n",
       "      <td>1.635277</td>\n",
       "      <td>1.380066</td>\n",
       "      <td>1.510520</td>\n",
       "      <td>1.592912</td>\n",
       "      <td>1.613510</td>\n",
       "      <td>1.682170</td>\n",
       "      <td>0.102990</td>\n",
       "      <td>1.0</td>\n",
       "      <td>0.000000</td>\n",
       "      <td>1</td>\n",
       "    </tr>\n",
       "    <tr>\n",
       "      <th>3</th>\n",
       "      <td>JW12</td>\n",
       "      <td>JW12_TP017</td>\n",
       "      <td>K</td>\n",
       "      <td>R</td>\n",
       "      <td>AE1</td>\n",
       "      <td>K-AE1-R</td>\n",
       "      <td>0.079819</td>\n",
       "      <td>-22.037</td>\n",
       "      <td>12.3780</td>\n",
       "      <td>-33.766001</td>\n",
       "      <td>...</td>\n",
       "      <td>2.283803</td>\n",
       "      <td>2.100996</td>\n",
       "      <td>2.300110</td>\n",
       "      <td>2.320708</td>\n",
       "      <td>2.348172</td>\n",
       "      <td>2.444296</td>\n",
       "      <td>0.048062</td>\n",
       "      <td>0.0</td>\n",
       "      <td>0.056216</td>\n",
       "      <td>1</td>\n",
       "    </tr>\n",
       "    <tr>\n",
       "      <th>4</th>\n",
       "      <td>JW12</td>\n",
       "      <td>JW12_TP017</td>\n",
       "      <td>IY0</td>\n",
       "      <td>N</td>\n",
       "      <td>AE1</td>\n",
       "      <td>IY0-AE1-N</td>\n",
       "      <td>0.049887</td>\n",
       "      <td>-15.916</td>\n",
       "      <td>7.5980</td>\n",
       "      <td>-29.587999</td>\n",
       "      <td>...</td>\n",
       "      <td>2.583123</td>\n",
       "      <td>2.492358</td>\n",
       "      <td>2.602214</td>\n",
       "      <td>2.615946</td>\n",
       "      <td>2.636544</td>\n",
       "      <td>2.705204</td>\n",
       "      <td>0.034330</td>\n",
       "      <td>0.0</td>\n",
       "      <td>0.044035</td>\n",
       "      <td>1</td>\n",
       "    </tr>\n",
       "  </tbody>\n",
       "</table>\n",
       "<p>5 rows × 39 columns</p>\n",
       "</div>"
      ],
      "text/plain": [
       "   Subj       FName PreLab NexLab Label    Context       Dur     T1x      T1y  \\\n",
       "0  JW12  JW12_TP007      P      N   AE1    P-AE1-N  0.119728 -15.086  -1.4980   \n",
       "1  JW12  JW12_TP010     HH      D   AE1   HH-AE1-D  0.099773 -17.583   3.0545   \n",
       "2  JW12  JW12_TP017      N      S   AE1    N-AE1-S  0.119728 -10.927  -0.0570   \n",
       "3  JW12  JW12_TP017      K      R   AE1    K-AE1-R  0.079819 -22.037  12.3780   \n",
       "4  JW12  JW12_TP017    IY0      N   AE1  IY0-AE1-N  0.049887 -15.916   7.5980   \n",
       "\n",
       "         T2x  ...    segEnd      GONS      NONS      MAXC     NOFFS     GOFFS  \\\n",
       "0 -29.573500  ...  5.962424  5.801770  5.884162  5.904760  5.918492  5.966554   \n",
       "1 -30.327500  ...  6.339805  6.076410  6.186266  6.206864  6.241194  6.378514   \n",
       "2 -25.707001  ...  1.635277  1.380066  1.510520  1.592912  1.613510  1.682170   \n",
       "3 -33.766001  ...  2.283803  2.100996  2.300110  2.320708  2.348172  2.444296   \n",
       "4 -29.587999  ...  2.583123  2.492358  2.602214  2.615946  2.636544  2.705204   \n",
       "\n",
       "   GesTarDur  timeMidWithinGest  timeMid2GestDiff  GestFound  \n",
       "0   0.034330                1.0          0.000000          1  \n",
       "1   0.054928                0.0          0.048724          1  \n",
       "2   0.102990                1.0          0.000000          1  \n",
       "3   0.048062                0.0          0.056216          1  \n",
       "4   0.034330                0.0          0.044035          1  \n",
       "\n",
       "[5 rows x 39 columns]"
      ]
     },
     "execution_count": 32,
     "metadata": {},
     "output_type": "execute_result"
    }
   ],
   "source": [
    "# Load speaker data\n",
    "with open(spkr_data, 'rb') as f:\n",
    "    SPKR = pickle.load(f)\n",
    "    \n",
    "SPKR.head()"
   ]
  },
  {
   "cell_type": "code",
   "execution_count": 33,
   "metadata": {},
   "outputs": [
    {
     "name": "stderr",
     "output_type": "stream",
     "text": [
      "WARNING: Logging before flag parsing goes to stderr.\n",
      "W0727 23:53:52.976483 4466156992 backend.py:527] OMP_NUM_THREADS is no longer used by the default Keras config. To configure the number of threads, use tf.config.threading APIs.\n"
     ]
    },
    {
     "name": "stdout",
     "output_type": "stream",
     "text": [
      "Model: \"sequential\"\n",
      "_________________________________________________________________\n",
      "Layer (type)                 Output Shape              Param #   \n",
      "=================================================================\n",
      "dense (Dense)                (None, 10)                40        \n",
      "_________________________________________________________________\n",
      "dropout (Dropout)            (None, 10)                0         \n",
      "_________________________________________________________________\n",
      "dense_1 (Dense)              (None, 10)                110       \n",
      "_________________________________________________________________\n",
      "dropout_1 (Dropout)          (None, 10)                0         \n",
      "_________________________________________________________________\n",
      "dense_2 (Dense)              (None, 2)                 22        \n",
      "=================================================================\n",
      "Total params: 172\n",
      "Trainable params: 172\n",
      "Non-trainable params: 0\n",
      "_________________________________________________________________\n"
     ]
    }
   ],
   "source": [
    "# Load model\n",
    "model = tf.keras.models.load_model(model_file)\n",
    "\n",
    "model.summary()"
   ]
  },
  {
   "cell_type": "code",
   "execution_count": 34,
   "metadata": {},
   "outputs": [
    {
     "data": {
      "text/plain": [
       "[<tensorflow.python.keras.layers.core.Dense at 0x1a256c9940>,\n",
       " <tensorflow.python.keras.layers.core.Dropout at 0x1a256c9c50>,\n",
       " <tensorflow.python.keras.layers.core.Dense at 0x1a256c03c8>,\n",
       " <tensorflow.python.keras.layers.core.Dropout at 0x1a266d67b8>,\n",
       " <tensorflow.python.keras.layers.core.Dense at 0x1a256c9fd0>]"
      ]
     },
     "execution_count": 34,
     "metadata": {},
     "output_type": "execute_result"
    }
   ],
   "source": [
    "model.layers"
   ]
  },
  {
   "cell_type": "markdown",
   "metadata": {},
   "source": [
    "## Build model"
   ]
  },
  {
   "cell_type": "code",
   "execution_count": 43,
   "metadata": {},
   "outputs": [],
   "source": [
    "input_var = K.random_normal_variable((1, input_dim), 0, 1)\n",
    "input_tensor = Input(tensor=input_var)\n",
    "\n",
    "layer1 = model.layers[0]\n",
    "layer1.trainable = False\n",
    "layer2 = model.layers[2]\n",
    "layer2.trainable = False\n",
    "layer3 = model.layers[4]\n",
    "layer3.trainable = False\n",
    "\n",
    "x = layer1(input_tensor)\n",
    "x = layer2(x)\n",
    "x = layer3(x)\n",
    "\n",
    "y = tf.constant(target)\n",
    "\n",
    "inv_model = Model(input_tensor, y)"
   ]
  },
  {
   "cell_type": "code",
   "execution_count": 46,
   "metadata": {},
   "outputs": [],
   "source": [
    "def custom_loss(y, ypred):\n",
    "    return K.mean(K.square(ypred - y), axis=-1)"
   ]
  },
  {
   "cell_type": "code",
   "execution_count": 47,
   "metadata": {},
   "outputs": [],
   "source": [
    "model.compile(optimizer='rmsprop',\n",
    "              loss=custom_loss,\n",
    "              metrics=['accuracy'])"
   ]
  },
  {
   "cell_type": "code",
   "execution_count": 50,
   "metadata": {},
   "outputs": [
    {
     "name": "stdout",
     "output_type": "stream",
     "text": [
      "Train on 10 samples\n",
      "10/10 [==============================] - 0s 9ms/step - loss: 1665772.5250 - accuracy: 0.0000e+00\n"
     ]
    },
    {
     "data": {
      "text/plain": [
       "<tensorflow.python.keras.callbacks.History at 0x1a24b35ac8>"
      ]
     },
     "execution_count": 50,
     "metadata": {},
     "output_type": "execute_result"
    }
   ],
   "source": [
    "model.fit(input_var, y, steps_per_epoch=10)"
   ]
  },
  {
   "cell_type": "markdown",
   "metadata": {},
   "source": [
    "# 모델 다시 만들기. 인풋을 넣는 과정부터 다시 생각해보기."
   ]
  },
  {
   "cell_type": "code",
   "execution_count": null,
   "metadata": {},
   "outputs": [],
   "source": []
  }
 ],
 "metadata": {
  "kernelspec": {
   "display_name": "Python 3",
   "language": "python",
   "name": "python3"
  },
  "language_info": {
   "codemirror_mode": {
    "name": "ipython",
    "version": 3
   },
   "file_extension": ".py",
   "mimetype": "text/x-python",
   "name": "python",
   "nbconvert_exporter": "python",
   "pygments_lexer": "ipython3",
   "version": "3.6.8"
  }
 },
 "nbformat": 4,
 "nbformat_minor": 4
}
